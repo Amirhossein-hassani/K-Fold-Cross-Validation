{
 "cells": [
  {
   "cell_type": "markdown",
   "metadata": {},
   "source": [
    "# HW5 - Optional Exercise"
   ]
  },
  {
   "cell_type": "markdown",
   "metadata": {},
   "source": [
    "Amirhossein Hassani - 99103803"
   ]
  },
  {
   "cell_type": "markdown",
   "metadata": {},
   "source": [
    "Import Libraries"
   ]
  },
  {
   "cell_type": "code",
   "execution_count": 1,
   "metadata": {},
   "outputs": [],
   "source": [
    "import pandas as pd\n",
    "from sklearn.model_selection import KFold, train_test_split\n",
    "from sklearn.linear_model import LinearRegression\n",
    "from sklearn.metrics import mean_squared_error, r2_score\n",
    "import numpy as np"
   ]
  },
  {
   "cell_type": "markdown",
   "metadata": {},
   "source": [
    "Load Dataset"
   ]
  },
  {
   "cell_type": "code",
   "execution_count": 2,
   "metadata": {},
   "outputs": [],
   "source": [
    "excel_file_path = 'C:\\\\Users\\\\ASUS\\\\Desktop\\\\Uni\\\\Transportation planning\\\\Home works\\\\HW5-emtiazi\\\\K-fold.xlsx'\n",
    "data = pd.read_excel(excel_file_path)"
   ]
  },
  {
   "cell_type": "markdown",
   "metadata": {},
   "source": [
    "Define Target and Features"
   ]
  },
  {
   "cell_type": "markdown",
   "metadata": {},
   "source": [
    "The target variable (y) is defined, and the feature matrix (X) is created by dropping the target column and the 'samples' column."
   ]
  },
  {
   "cell_type": "code",
   "execution_count": 3,
   "metadata": {},
   "outputs": [],
   "source": [
    "Target = 'number of daily trips per household (Y)'\n",
    "X = data.drop(Target, axis=1)\n",
    "X = X.drop('samples', axis=1)\n",
    "y = data[Target]"
   ]
  },
  {
   "cell_type": "markdown",
   "metadata": {},
   "source": [
    "The dataset is split into training and testing sets using train_test_split."
   ]
  },
  {
   "cell_type": "code",
   "execution_count": 4,
   "metadata": {},
   "outputs": [],
   "source": [
    "test_size = 0.2\n",
    "X_train, X_test, y_train, y_test = train_test_split(X, y, test_size=test_size, random_state=50)"
   ]
  },
  {
   "cell_type": "markdown",
   "metadata": {},
   "source": [
    "K-Fold cross-validation is set up with 5 folds."
   ]
  },
  {
   "cell_type": "code",
   "execution_count": 5,
   "metadata": {},
   "outputs": [],
   "source": [
    "k = 5\n",
    "kf = KFold(n_splits=k, shuffle=True, random_state=42)"
   ]
  },
  {
   "cell_type": "markdown",
   "metadata": {},
   "source": [
    "A linear regression model is initialized. "
   ]
  },
  {
   "cell_type": "code",
   "execution_count": 6,
   "metadata": {},
   "outputs": [],
   "source": [
    "model = LinearRegression()"
   ]
  },
  {
   "cell_type": "markdown",
   "metadata": {},
   "source": [
    "Empty lists are initialized to store Mean Squared Error (MSE) and adjusted R-squared values for each fold."
   ]
  },
  {
   "cell_type": "code",
   "execution_count": 7,
   "metadata": {},
   "outputs": [],
   "source": [
    "mse_values = []\n",
    "r2_values = []"
   ]
  },
  {
   "cell_type": "markdown",
   "metadata": {},
   "source": [
    "The loop iterates over each fold, splitting the training data into training and validation sets, training the model, and calculating MSE and adjusted R-squared for each fold."
   ]
  },
  {
   "cell_type": "code",
   "execution_count": 8,
   "metadata": {},
   "outputs": [
    {
     "name": "stdout",
     "output_type": "stream",
     "text": [
      "Validation MSE for fold: 1.1582589680049131\n",
      "Validation Adjusted R-squared for fold: 0.942807720444954\n",
      "Validation MSE for fold: 0.7670151561793117\n",
      "Validation Adjusted R-squared for fold: 0.966136686011143\n",
      "Validation MSE for fold: 0.6256070344608947\n",
      "Validation Adjusted R-squared for fold: 0.967157824031688\n",
      "Validation MSE for fold: 0.6977843836036075\n",
      "Validation Adjusted R-squared for fold: 0.9671133600482333\n",
      "Validation MSE for fold: 0.9756097588852037\n",
      "Validation Adjusted R-squared for fold: 0.9516221527826434\n"
     ]
    }
   ],
   "source": [
    "for train_index, val_index in kf.split(X_train):\n",
    "    # Split the data into train and validation sets for this fold\n",
    "    X_train_fold, X_val_fold = X_train.iloc[train_index], X_train.iloc[val_index]\n",
    "    y_train_fold, y_val_fold = y_train.iloc[train_index], y_train.iloc[val_index]\n",
    "\n",
    "    # Train the model on the training set for this fold\n",
    "    model.fit(X_train_fold, y_train_fold)\n",
    "\n",
    "    # Make predictions on the validation set for this fold\n",
    "    val_predictions = model.predict(X_val_fold)\n",
    "\n",
    "    # Calculate MSE and R-squared for validation set for this fold\n",
    "    mse_val = mean_squared_error(y_val_fold, val_predictions)\n",
    "    r2_val = r2_score(y_val_fold, val_predictions)\n",
    "\n",
    "    # Calculate the number of features\n",
    "    num_features = X_train_fold.shape[1]\n",
    "\n",
    "    # Calculate the adjusted R-squared\n",
    "    adjusted_r2_val = 1 - ((1 - r2_val) * (len(y_val_fold) - 1) / (len(y_val_fold) - num_features - 1))\n",
    "\n",
    "    # Print or store MSE and adjusted R-squared values for validation set for this fold\n",
    "    print(f'Validation MSE for fold: {mse_val}')\n",
    "    print(f'Validation Adjusted R-squared for fold: {adjusted_r2_val}')\n",
    "\n",
    "    # Append values to the lists\n",
    "    mse_values.append(mse_val)\n",
    "    r2_values.append(adjusted_r2_val)\n",
    "\n",
    "# Calculate the average MSE and adjusted R-squared across all folds on the training set\n",
    "average_mse = np.mean(mse_values)\n",
    "average_adjusted_r2 = np.mean(r2_values)"
   ]
  },
  {
   "cell_type": "code",
   "execution_count": 10,
   "metadata": {},
   "outputs": [
    {
     "data": {
      "text/plain": [
       "[1.1582589680049131,\n",
       " 0.7670151561793117,\n",
       " 0.6256070344608947,\n",
       " 0.6977843836036075,\n",
       " 0.9756097588852037]"
      ]
     },
     "execution_count": 10,
     "metadata": {},
     "output_type": "execute_result"
    }
   ],
   "source": [
    "mse_values"
   ]
  },
  {
   "cell_type": "code",
   "execution_count": 11,
   "metadata": {},
   "outputs": [
    {
     "data": {
      "text/plain": [
       "[0.942807720444954,\n",
       " 0.966136686011143,\n",
       " 0.967157824031688,\n",
       " 0.9671133600482333,\n",
       " 0.9516221527826434]"
      ]
     },
     "execution_count": 11,
     "metadata": {},
     "output_type": "execute_result"
    }
   ],
   "source": [
    "r2_values"
   ]
  },
  {
   "cell_type": "markdown",
   "metadata": {},
   "source": [
    "The average MSE and adjusted R-squared values across all folds are calculated"
   ]
  },
  {
   "cell_type": "code",
   "execution_count": 12,
   "metadata": {},
   "outputs": [
    {
     "data": {
      "text/plain": [
       "0.8448550602267861"
      ]
     },
     "execution_count": 12,
     "metadata": {},
     "output_type": "execute_result"
    }
   ],
   "source": [
    "average_mse"
   ]
  },
  {
   "cell_type": "code",
   "execution_count": 13,
   "metadata": {},
   "outputs": [
    {
     "data": {
      "text/plain": [
       "0.9589675486637322"
      ]
     },
     "execution_count": 13,
     "metadata": {},
     "output_type": "execute_result"
    }
   ],
   "source": [
    "average_adjusted_r2"
   ]
  },
  {
   "cell_type": "markdown",
   "metadata": {},
   "source": [
    "The trained model is evaluated on the test set, and MSE and R-squared for the test set are printed."
   ]
  },
  {
   "cell_type": "code",
   "execution_count": 14,
   "metadata": {},
   "outputs": [],
   "source": [
    "test_predictions = model.predict(X_test)\n",
    "mse_test = mean_squared_error(y_test, test_predictions)\n",
    "r2_test = r2_score(y_test, test_predictions)"
   ]
  },
  {
   "cell_type": "code",
   "execution_count": 15,
   "metadata": {},
   "outputs": [
    {
     "data": {
      "text/plain": [
       "0.8981685378295566"
      ]
     },
     "execution_count": 15,
     "metadata": {},
     "output_type": "execute_result"
    }
   ],
   "source": [
    "mse_test"
   ]
  },
  {
   "cell_type": "code",
   "execution_count": 16,
   "metadata": {},
   "outputs": [
    {
     "data": {
      "text/plain": [
       "0.9614674980419013"
      ]
     },
     "execution_count": 16,
     "metadata": {},
     "output_type": "execute_result"
    }
   ],
   "source": [
    "r2_test"
   ]
  }
 ],
 "metadata": {
  "kernelspec": {
   "display_name": "Python 3",
   "language": "python",
   "name": "python3"
  },
  "language_info": {
   "codemirror_mode": {
    "name": "ipython",
    "version": 3
   },
   "file_extension": ".py",
   "mimetype": "text/x-python",
   "name": "python",
   "nbconvert_exporter": "python",
   "pygments_lexer": "ipython3",
   "version": "3.8.3"
  }
 },
 "nbformat": 4,
 "nbformat_minor": 4
}
